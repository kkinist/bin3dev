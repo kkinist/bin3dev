{
 "cells": [
  {
   "cell_type": "code",
   "execution_count": 1,
   "metadata": {
    "collapsed": true
   },
   "outputs": [],
   "source": [
    "# Read hessian matrix and atomic masses/coordinates from Gaussian09 output file\n",
    "# compute vibrational frequencies"
   ]
  },
  {
   "cell_type": "code",
   "execution_count": 2,
   "metadata": {
    "collapsed": true
   },
   "outputs": [],
   "source": [
    "from qm_subs import *\n",
    "from chem_subs import *\n",
    "import re\n",
    "import pandas as pd\n",
    "import matplotlib.pyplot as plt\n",
    "np.set_printoptions(suppress=True)"
   ]
  },
  {
   "cell_type": "code",
   "execution_count": 3,
   "metadata": {
    "collapsed": true
   },
   "outputs": [],
   "source": [
    "def hess2freq(hess, mass3, invmass=False, unweight=True):\n",
    "    # given a hessian (in atomic units) and a cartesian mass vector (in amu),\n",
    "    #    return the harmonic vibrational frequencies (cm**-1) and mode vectors\n",
    "    # 'invmass' means that instead of cartesian masses we have cartesian\n",
    "    #    inverse-square-root masses (in units of amu**-0.5)\n",
    "    # 'unweight' causes mass weights to be removed from eigenvectors, \n",
    "    #    which are then renormalized\n",
    "    #\n",
    "    # convert masses from amu to atomic units\n",
    "    if not invmass:\n",
    "        mass3 = mass3 * AMU_AU\n",
    "        # inverse mass weights\n",
    "        alpha3 = mass3 ** -0.5\n",
    "    else:\n",
    "        alpha3 = mass3 * (AMU_AU ** -0.5)\n",
    "    amat = np.outer(alpha3, alpha3)\n",
    "    # mass-weighted hessian\n",
    "    mhess = np.multiply(hess, amat)\n",
    "    vals, vecs = np.linalg.eigh(mhess)\n",
    "    # return imaginary freqs as negative reals\n",
    "    freqs = np.sqrt(np.abs(vals)) * np.sign(vals)\n",
    "    # freqs start with units = atomic unit of inverse of time = hbar/Eh\n",
    "    freqs = freqs * AU_JOULE / HBAR\n",
    "    # now freqs should be in s-1\n",
    "    # convert to cm-1 and from angular to periodic\n",
    "    freqs = freqs / (CLIGHT * 100) / (2 * np.pi)\n",
    "    if unweight:\n",
    "        # remove inverse mass weights from eigenvectors\n",
    "        mvecs = np.divide(vecs, amat)\n",
    "        # normalize rows\n",
    "        nrms = np.linalg.norm(mvecs, axis=1)\n",
    "        mvecs = mvecs / nrms\n",
    "        return freqs, mvecs\n",
    "    else:\n",
    "        return freqs, vecs"
   ]
  },
  {
   "cell_type": "code",
   "execution_count": 4,
   "metadata": {
    "collapsed": true
   },
   "outputs": [],
   "source": [
    "def termin_mass_scale(Geom, hess, minv3, A=0.040):\n",
    "    # directional mass-weighting of terminal atoms\n",
    "    # return vibrational frequencies (in cm**-1) and mode vectors\n",
    "    #\n",
    "    # find the terminal atoms and their normalized bond vectors\n",
    "    terminal = []\n",
    "    bvec = []\n",
    "    blist = Geom.bonded_list()\n",
    "    for i in range(len(blist)):\n",
    "        if len(blist[i]) == 1:\n",
    "            terminal.append(i)\n",
    "            bvec.append(Geom.vec(i, blist[i][0], 1.0))\n",
    "        else:\n",
    "            bvec.append([])\n",
    "    # scale each cartesian component according to its bond-vector component\n",
    "    minv = minv3.reshape(-1,3).copy()\n",
    "    for iatom in terminal:\n",
    "        for j in [0, 1, 2]:\n",
    "            mu = minv[iatom, j]\n",
    "            minv[iatom, j] = mu - A * abs(bvec[iatom][j]) / (mu * mu)\n",
    "    minv = minv.flatten()\n",
    "    freqs, vecs = hess2freq(hess, minv, invmass=True)\n",
    "    return freqs, vecs"
   ]
  },
  {
   "cell_type": "code",
   "execution_count": 5,
   "metadata": {
    "collapsed": true
   },
   "outputs": [],
   "source": [
    "fgau = 'h2o_freq.out'"
   ]
  },
  {
   "cell_type": "code",
   "execution_count": 6,
   "metadata": {},
   "outputs": [],
   "source": [
    "# get the frequencies as computed by Gaussian\n",
    "regx = re.compile('Frequ')\n",
    "gaufreqs = []\n",
    "with open(fgau) as f:\n",
    "    for line in f:\n",
    "        if regx.search(line):\n",
    "            fields = line.split()\n",
    "            gaufreqs.extend(fields[2:])\n",
    "gaufreqs = np.array(gaufreqs, dtype=float)"
   ]
  },
  {
   "cell_type": "code",
   "execution_count": 7,
   "metadata": {
    "collapsed": true
   },
   "outputs": [],
   "source": [
    "# experimental fundamentals for water, from CCCBDB\n",
    "expt = np.array([1595., 3657., 3756.])"
   ]
  },
  {
   "cell_type": "code",
   "execution_count": 8,
   "metadata": {},
   "outputs": [],
   "source": [
    "# get the initial geometry\n",
    "Geom = read_qm_Geometry('gaussian09', fgau)[0]\n",
    "#Geom.printXYZ(comment='initial geometry for {:s}'.format(Geom.stoichiometry()))"
   ]
  },
  {
   "cell_type": "code",
   "execution_count": 9,
   "metadata": {},
   "outputs": [],
   "source": [
    "masses = np.array(read_g09_atom_masses(fgau))\n",
    "Geom.set_masses(masses)\n",
    "mass3 = Geom.massVector(tripled=True)\n",
    "#mass3 = np.array([masses] * 3).T.flatten()  # isotropic masses"
   ]
  },
  {
   "cell_type": "code",
   "execution_count": 10,
   "metadata": {},
   "outputs": [],
   "source": [
    "arch = read_g09_archive_block(fgau)\n",
    "arch = parse_g09_archive_block(arch)"
   ]
  },
  {
   "cell_type": "code",
   "execution_count": 11,
   "metadata": {},
   "outputs": [],
   "source": [
    "minv3 = mass3 ** -0.5\n",
    "freqs, mvecs = hess2freq(arch['hessian'], minv3, invmass=True)"
   ]
  },
  {
   "cell_type": "code",
   "execution_count": 12,
   "metadata": {},
   "outputs": [],
   "source": [
    "nfreq = len(mass3) - 6"
   ]
  },
  {
   "cell_type": "code",
   "execution_count": 13,
   "metadata": {},
   "outputs": [
    {
     "data": {
      "text/html": [
       "<div>\n",
       "<style>\n",
       "    .dataframe thead tr:only-child th {\n",
       "        text-align: right;\n",
       "    }\n",
       "\n",
       "    .dataframe thead th {\n",
       "        text-align: left;\n",
       "    }\n",
       "\n",
       "    .dataframe tbody tr th {\n",
       "        vertical-align: top;\n",
       "    }\n",
       "</style>\n",
       "<table border=\"1\" class=\"dataframe\">\n",
       "  <thead>\n",
       "    <tr style=\"text-align: right;\">\n",
       "      <th></th>\n",
       "      <th>expt</th>\n",
       "      <th>this</th>\n",
       "      <th>G09</th>\n",
       "    </tr>\n",
       "  </thead>\n",
       "  <tbody>\n",
       "    <tr>\n",
       "      <th>0</th>\n",
       "      <td>1595.0</td>\n",
       "      <td>1645.527476</td>\n",
       "      <td>1645.5307</td>\n",
       "    </tr>\n",
       "    <tr>\n",
       "      <th>1</th>\n",
       "      <td>3657.0</td>\n",
       "      <td>3810.551832</td>\n",
       "      <td>3810.5608</td>\n",
       "    </tr>\n",
       "    <tr>\n",
       "      <th>2</th>\n",
       "      <td>3756.0</td>\n",
       "      <td>3919.730054</td>\n",
       "      <td>3919.7389</td>\n",
       "    </tr>\n",
       "  </tbody>\n",
       "</table>\n",
       "</div>"
      ],
      "text/plain": [
       "     expt         this        G09\n",
       "0  1595.0  1645.527476  1645.5307\n",
       "1  3657.0  3810.551832  3810.5608\n",
       "2  3756.0  3919.730054  3919.7389"
      ]
     },
     "execution_count": 13,
     "metadata": {},
     "output_type": "execute_result"
    }
   ],
   "source": [
    "results = pd.DataFrame(np.array([expt, freqs[-nfreq:], gaufreqs]).T, \n",
    "        columns = ['expt', 'this', 'G09'])\n",
    "results"
   ]
  },
  {
   "cell_type": "code",
   "execution_count": 14,
   "metadata": {},
   "outputs": [
    {
     "data": {
      "text/html": [
       "<div>\n",
       "<style>\n",
       "    .dataframe thead tr:only-child th {\n",
       "        text-align: right;\n",
       "    }\n",
       "\n",
       "    .dataframe thead th {\n",
       "        text-align: left;\n",
       "    }\n",
       "\n",
       "    .dataframe tbody tr th {\n",
       "        vertical-align: top;\n",
       "    }\n",
       "</style>\n",
       "<table border=\"1\" class=\"dataframe\">\n",
       "  <thead>\n",
       "    <tr style=\"text-align: right;\">\n",
       "      <th></th>\n",
       "      <th>expt</th>\n",
       "      <th>this</th>\n",
       "      <th>G09</th>\n",
       "    </tr>\n",
       "  </thead>\n",
       "  <tbody>\n",
       "    <tr>\n",
       "      <th>0</th>\n",
       "      <td>1595.0</td>\n",
       "      <td>1636.459365</td>\n",
       "      <td>1645.5307</td>\n",
       "    </tr>\n",
       "    <tr>\n",
       "      <th>1</th>\n",
       "      <td>3657.0</td>\n",
       "      <td>3669.790194</td>\n",
       "      <td>3810.5608</td>\n",
       "    </tr>\n",
       "    <tr>\n",
       "      <th>2</th>\n",
       "      <td>3756.0</td>\n",
       "      <td>3778.735952</td>\n",
       "      <td>3919.7389</td>\n",
       "    </tr>\n",
       "  </tbody>\n",
       "</table>\n",
       "</div>"
      ],
      "text/plain": [
       "     expt         this        G09\n",
       "0  1595.0  1636.459365  1645.5307\n",
       "1  3657.0  3669.790194  3810.5608\n",
       "2  3756.0  3778.735952  3919.7389"
      ]
     },
     "execution_count": 14,
     "metadata": {},
     "output_type": "execute_result"
    }
   ],
   "source": [
    "freqs, vecs = termin_mass_scale(Geom, arch['hessian'], minv3, A=0.040)\n",
    "results = pd.DataFrame(np.array([expt, freqs[-nfreq:], gaufreqs]).T, \n",
    "        columns = ['expt', 'this', 'G09'])\n",
    "results"
   ]
  },
  {
   "cell_type": "code",
   "execution_count": 23,
   "metadata": {
    "collapsed": true
   },
   "outputs": [],
   "source": [
    "# generate A-dependence for plotting\n",
    "Avals = np.arange(0.03, 0.05, 0.001)\n",
    "freqs = []\n",
    "for A in Avals:\n",
    "    f, v = termin_mass_scale(Geom, arch['hessian'], minv3, A=A)\n",
    "    freqs.append(f[-nfreq:])\n",
    "freqs = np.array(freqs)"
   ]
  },
  {
   "cell_type": "code",
   "execution_count": 35,
   "metadata": {},
   "outputs": [
    {
     "data": {
      "image/png": "[encoded data removed]",
      "text/plain": [
       "<matplotlib.figure.Figure at 0x2ab9ec31c0b8>"
      ]
     },
     "metadata": {},
     "output_type": "display_data"
    }
   ],
   "source": [
    "plt.semilogy(Avals, freqs)\n",
    "for xfreq in expt:\n",
    "    plt.axhline(y=xfreq, color='y', linestyle='-')\n",
    "plt.rcParams[\"figure.figsize\"] = [10, 16]\n",
    "plt.show()"
   ]
  },
  {
   "cell_type": "code",
   "execution_count": null,
   "metadata": {
    "collapsed": true
   },
   "outputs": [],
   "source": []
  }
 ],
 "metadata": {
  "kernelspec": {
   "display_name": "Python 3",
   "language": "python",
   "name": "python3"
  },
  "language_info": {
   "codemirror_mode": {
    "name": "ipython",
    "version": 3
   },
   "file_extension": ".py",
   "mimetype": "text/x-python",
   "name": "python",
   "nbconvert_exporter": "python",
   "pygments_lexer": "ipython3",
   "version": "3.5.2"
  }
 },
 "nbformat": 4,
 "nbformat_minor": 2
}
